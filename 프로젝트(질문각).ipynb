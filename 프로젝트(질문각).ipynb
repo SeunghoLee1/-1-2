{
 "cells": [
  {
   "cell_type": "code",
   "execution_count": null,
   "metadata": {},
   "outputs": [],
   "source": [
    "f =open('C:/Users/seung/Downloads/thelittleprince.txt')"
   ]
  },
  {
   "cell_type": "code",
   "execution_count": null,
   "metadata": {},
   "outputs": [],
   "source": [
    "print(f.read())"
   ]
  },
  {
   "cell_type": "code",
   "execution_count": null,
   "metadata": {},
   "outputs": [],
   "source": [
    "j = open('C:/Users/seung/Downloads/thelittleprince.txt')"
   ]
  },
  {
   "cell_type": "code",
   "execution_count": null,
   "metadata": {},
   "outputs": [],
   "source": [
    "cnt = {}\n",
    "for row in j:\n",
    "    k = row.strip()\n",
    "for i in k:\n",
    "    if i in cnt:\n",
    "        cnt[i] = cnt[i] + 1\n",
    "    else:\n",
    "        cnt[i] = 1\n",
    "print(k)"
   ]
  },
  {
   "cell_type": "code",
   "execution_count": null,
   "metadata": {},
   "outputs": [],
   "source": [
    "cnt = {}\n",
    "y = open('thelittleprince.txt')\n",
    "for i in y :\n",
    "    if i in cnt:\n",
    "        cnt[i] = cnt[i] + 1\n",
    "    else:\n",
    "        cnt[i] = 1\n",
    "print(cnt)\n",
    "        "
   ]
  },
  {
   "cell_type": "code",
   "execution_count": null,
   "metadata": {},
   "outputs": [],
   "source": [
    "cnt = {}\n",
    "y = open('thelittleprince.txt')\n",
    "alpha = ['a', 'b', 'c','d', 'e', 'f', 'g', 'h', 'i', 'j', 'k', 'l', 'm', 'n', 'o', 'p', 'q', 'r', 's', 't', 'u', 'v', 'w', 'x', 'y', 'z', 'A', 'B', 'C', 'D', 'E', 'F', 'G', 'H', 'I', 'J', 'K', 'L', 'M', 'N', 'O', 'P', 'Q', 'R', 'S', 'T', 'U', 'V', 'W', 'X', 'Y', 'Z']\n",
    "for row in y :\n",
    "    k = row.strip()\n",
    "    for i in k:\n",
    "        if i in alpha:\n",
    "            if i in cnt:\n",
    "                cnt[i] = cnt[i] + 1\n",
    "            else:\n",
    "                cnt[i] = 1\n",
    "print(cnt)"
   ]
  },
  {
   "cell_type": "code",
   "execution_count": 5,
   "metadata": {},
   "outputs": [
    {
     "name": "stdout",
     "output_type": "stream",
     "text": [
      "어떤 파일을 사용할 것인가요? 꼭 Download 폴더에 넣으시고 확장명은 txt로thelittleprince.txt\n",
      "9.926416482707873 t\n",
      "6.434142752023547 h\n",
      "13.049300956585725 e\n",
      "4.547461368653422 l\n",
      "7.190581309786608 i\n",
      "1.6718175128771156 p\n",
      "5.3509933774834435 r\n",
      "6.490066225165563 n\n",
      "1.9867549668874172 c\n",
      "7.562913907284768 o\n",
      "2.3649742457689475 w\n",
      "8.004415011037528 a\n",
      "6.145695364238411 s\n",
      "0.2163355408388521 x\n",
      "2.329654157468727 y\n",
      "3.9632082413539367 d\n",
      "2.665194996320824 m\n",
      "1.842531272994849 g\n",
      "1.9661515820456217 f\n",
      "2.7770419426048565 u\n",
      "1.4186902133922001 b\n",
      "0.8682855040470935 k\n",
      "0.9683590875643856 v\n",
      "0.11184694628403238 j\n",
      "0.04562178072111847 z\n",
      "0.10154525386313466 q\n",
      "[('a', 5439), ('b', 964), ('c', 1350), ('d', 2693), ('e', 8867), ('f', 1336), ('g', 1252), ('h', 4372), ('i', 4886), ('j', 76), ('k', 590), ('l', 3090), ('m', 1811), ('n', 4410), ('o', 5139), ('p', 1136), ('q', 69), ('r', 3636), ('s', 4176), ('t', 6745), ('u', 1887), ('v', 658), ('w', 1607), ('x', 147), ('y', 1583), ('z', 31)]\n",
      "[('e', 8867), ('t', 6745), ('a', 5439), ('o', 5139), ('i', 4886), ('n', 4410), ('h', 4372), ('s', 4176), ('r', 3636), ('l', 3090), ('d', 2693), ('u', 1887), ('m', 1811), ('w', 1607), ('y', 1583), ('c', 1350), ('f', 1336), ('g', 1252), ('p', 1136), ('b', 964), ('v', 658), ('k', 590), ('x', 147), ('j', 76), ('q', 69), ('z', 31)]\n"
     ]
    },
    {
     "data": {
      "image/png": "[encoded data removed]",
      "text/plain": [
       "<matplotlib.figure.Figure at 0x1b253d02080>"
      ]
     },
     "metadata": {},
     "output_type": "display_data"
    }
   ],
   "source": [
    "import matplotlib.pyplot as plt\n",
    "import operator\n",
    "f = input('어떤 파일을 사용할 것인가요? 꼭 Download 폴더에 넣으시고 확장명은 txt로')\n",
    "sum = 0\n",
    "cnt = {}\n",
    "y = open(f)\n",
    "alpha = ['a', 'b', 'c','d', 'e', 'f', 'g', 'h', 'i', 'j', 'k', 'l', 'm', 'n', 'o', 'p', 'q', 'r', 's', 't', 'u', 'v', 'w', 'x', 'y', 'z', 'A', 'B', 'C', 'D', 'E', 'F', 'G', 'H', 'I', 'J', 'K', 'L', 'M', 'N', 'O', 'P', 'Q', 'R', 'S', 'T', 'U', 'V', 'W', 'X', 'Y', 'Z']\n",
    "for row in y :\n",
    "    k = row.strip()\n",
    "    k = k.lower()\n",
    "    for i in k:\n",
    "        if i in alpha:\n",
    "            if i in cnt:\n",
    "                cnt[i] = cnt[i] + 1\n",
    "            else:\n",
    "                cnt[i] = 1\n",
    "\n",
    "for i in cnt:\n",
    "    sum = sum + cnt[i]\n",
    "sortedArr1 = sorted(cnt.items())\n",
    "sortedArr2 = sorted(cnt.items(), key=operator.itemgetter(1), reverse = True)\n",
    "for i in cnt:\n",
    "    print(cnt[i]*100/sum, i)\n",
    "print(sortedArr1)\n",
    "print(sortedArr2)\n",
    "\n",
    "\n",
    "plt.bar(range(len(cnt.keys())),cnt.values())\n",
    "plt.xticks(range(len(cnt.keys())),cnt.keys(), rotation = 90)\n",
    "plt.show()"
   ]
  },
  {
   "cell_type": "code",
   "execution_count": null,
   "metadata": {},
   "outputs": [],
   "source": [
    "cnt = {}\n",
    "y = open('thelittleprince.txt')\n",
    "for row in y :\n",
    "    k = row.strip()\n",
    "    k = k.lower()\n",
    "    for i in k:\n",
    "        if i != '\\n':\n",
    "            if i in cnt:\n",
    "                cnt[i] = cnt[i] + 1\n",
    "            else:\n",
    "                cnt[i] = 1\n",
    "print(cnt)"
   ]
  },
  {
   "cell_type": "code",
   "execution_count": null,
   "metadata": {},
   "outputs": [],
   "source": []
  }
 ],
 "metadata": {
  "kernelspec": {
   "display_name": "Python 3",
   "language": "python",
   "name": "python3"
  },
  "language_info": {
   "codemirror_mode": {
    "name": "ipython",
    "version": 3
   },
   "file_extension": ".py",
   "mimetype": "text/x-python",
   "name": "python",
   "nbconvert_exporter": "python",
   "pygments_lexer": "ipython3",
   "version": "3.6.4"
  }
 },
 "nbformat": 4,
 "nbformat_minor": 2
}
